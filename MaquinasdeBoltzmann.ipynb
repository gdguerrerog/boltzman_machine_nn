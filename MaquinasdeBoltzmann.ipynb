{
  "cells": [
    {
      "cell_type": "markdown",
      "metadata": {
        "id": "esY5pouUqi4w"
      },
      "source": [
        "# Máquinas de Boltzmann\n",
        "\n",
        "Las máquinas de Boltzmann son un tipo de redes neuronales recurrentes estocásticas que se derivan de los modelos de Procesamiento Distribuido Paralelo (PDP). Estos se caracterizan por tener unidades altamente interconectadas y usualmente se utilizan en tareas como la visión artificial, la percepción y cualquier otro problema de ese estilo que usualmente requiere bastante poder de cómputo. \n",
        "\n",
        "Las **Máquinas de Boltzman** se originaron cuando se hizo disponible la tecnología necesaria para soportarlos a finales de los años 80's. \n",
        "\n",
        "Están inspiradas en la **Distribución de Boltzman** la cual establece que el estado actual del sistema depende de la energía y la termperatura del mismo. La energía de una máquiana de boltzman es equivalente a la desviación, entre más energía tenga el sistema tendrás más desviación. Teniendo en cuenta esto, el objetivo es entrenar la máquina hasta su punto de mínima energía. \n",
        "\n",
        "Como también se da el problema de la búsqueda del mínimo global, en donde el modelo puede estancarse en un mínimo global, en ocaciones se permite al modelo hacer saltos periodicos de un estado de mayor energí a uno de menor energía para encontrar la solución más óptima.\n",
        "\n",
        "\n",
        "<h2> Aplicaciones:</h2>\n",
        "\n",
        "* Sistemas de recomendación \n",
        "* Reduccion de dimensionalidades\n",
        "\n",
        "\n",
        "\n",
        "En la imagen las 3 unidades en azul son neuronas ocultas, y el resto son visibles. Las neuronas visibles pueden recibir los datos de entrada, y son los nodos que retornan \n",
        "\n",
        "<center>\n",
        "\n",
        "![Las 3 unidades en azul son neuronas ocultas, y el resto son visibles.](https://wikiimg.tojsiabtv.com/wikipedia/commons/thumb/7/7a/Boltzmannexamplev1.png/220px-Boltzmannexamplev1.png)\n",
        "\n",
        "</center>\n"
      ]
    },
    {
      "cell_type": "markdown",
      "metadata": {
        "id": "4jsUH0qk4vFN"
      },
      "source": [
        "### Sigmoid\n",
        "\n",
        "$\\rho(x) = \\frac{1}{1 + e^{-x}}$"
      ]
    },
    {
      "cell_type": "code",
      "execution_count": null,
      "metadata": {
        "colab": {
          "base_uri": "https://localhost:8080/",
          "height": 283
        },
        "id": "fX9LrXd16GCV",
        "outputId": "98543d6d-a3f0-4dfd-ced9-1a458b18c8d0"
      },
      "outputs": [
        {
          "data": {
            "text/plain": [
              "[<matplotlib.lines.Line2D at 0x7f77bc1dca50>]"
            ]
          },
          "execution_count": 1208,
          "metadata": {},
          "output_type": "execute_result"
        },
        {
          "data": {
            "image/png": "[encoded data removed]",
            "text/plain": [
              "<Figure size 432x288 with 1 Axes>"
            ]
          },
          "metadata": {
            "needs_background": "light"
          },
          "output_type": "display_data"
        }
      ],
      "source": [
        "from matplotlib import pyplot\n",
        "import numpy as np\n",
        "\n",
        "x = [(i - 50)/10 for i in range(100)]\n",
        "y = [1/(1 + np.exp(-x_val)) for x_val in x]\n",
        "\n",
        "pyplot.plot(x, y)"
      ]
    },
    {
      "cell_type": "markdown",
      "metadata": {
        "id": "5i-dtyAerys0"
      },
      "source": [
        "# Implementation\n",
        "\n",
        "Based on the explanation here: \n",
        "- https://www.cs.toronto.edu/~hinton/csc321/readings/boltz321.pdf \n",
        "- https://rubikscode.net/2018/10/01/introduction-to-restricted-boltzmann-machines/\n",
        "- https://rubikscode.net/2018/10/22/implementing-restricted-boltzmann-machine-with-python-and-tensorflow/\n",
        "- http://www.cs.toronto.edu/~hinton/absps/guideTR.pdf\n",
        "- https://en.wikipedia.org/wiki/Restricted_Boltzmann_machine\n",
        "- https://es.khanacademy.org/science/ap-chemistry-beta/x2eef969c74e0d802:intermolecular-forces-and-properties/x2eef969c74e0d802:kinetic-molecular-theory/v/maxwell-boltzmann-distribution\n",
        "- https://github.com/farhanchoudhary/Deep-Learning-A-Z-Hands-on-Artificial-Neural-Network.git"
      ]
    },
    {
      "cell_type": "markdown",
      "metadata": {
        "id": "naeLC59XYuAb"
      },
      "source": [
        "## Restricted Boltzman Machine\n",
        "\n",
        "A general boltzamn machine wasn't implemented due to it's computational complexity"
      ]
    },
    {
      "cell_type": "code",
      "execution_count": 1,
      "metadata": {
        "id": "C4142KC5r-Mc"
      },
      "outputs": [],
      "source": [
        "import numpy as np\n",
        "import random as rand\n",
        "import json\n",
        "\n",
        "def sigmoid(x):\n",
        "  if x < -20: return 0\n",
        "  if x > 20: return 1\n",
        "\n",
        "  return 1/(1 + np.exp(-x))\n",
        "\n",
        "# Node class\n",
        "class BoltzmanMachineNode:\n",
        "  \n",
        "  def __init__(self, bm, idx, is_visible, bias=0, initial_state=0):\n",
        "    self.bm = bm # Link to the boltzman machine\n",
        "    self.idx = idx\n",
        "    self.bias = bias\n",
        "    self.state = initial_state\n",
        "    self.is_visible = is_visible\n",
        "\n",
        "  def prob_activation(self):\n",
        "    if self.is_visible:\n",
        "      return sigmoid(self.bias + sum([self.bm.w[self.idx][j] for j in range(self.bm.total_h_nodes)]))\n",
        "    else:\n",
        "      return sigmoid(self.bias + sum([self.bm.w[i][self.idx] for i in range(self.bm.total_v_nodes)]))\n",
        "\n",
        "  def eval_update(self):\n",
        "    if rand.random() < self.prob_activation():\n",
        "      return 1\n",
        "    else:\n",
        "      return 0\n",
        "\n",
        "# Boltzman Machine class\n",
        "class BoltzmanMachine:\n",
        "  def __init__(self, visible_nodes, hidden_nodes, learning_rate=0.2):\n",
        "    self.total_v_nodes = visible_nodes\n",
        "    self.total_h_nodes = hidden_nodes\n",
        "    self.total_nodes = visible_nodes + hidden_nodes\n",
        "    self.learning_rate = learning_rate\n",
        "\n",
        "    # Initialize visible and hidden nodes\n",
        "    self.v_nodes = np.array([\n",
        "      BoltzmanMachineNode(self, idx, True, bias=0) for idx in range(visible_nodes)\n",
        "    ])\n",
        "\n",
        "    self.h_nodes = np.array([\n",
        "      BoltzmanMachineNode(self, idx, False, bias=0) for idx in range(hidden_nodes)\n",
        "    ])\n",
        "    \n",
        "    # Initialize the weights\n",
        "    self.w = np.zeros((visible_nodes, hidden_nodes), float)\n",
        "    for i in range(visible_nodes):\n",
        "      for j in range(hidden_nodes):\n",
        "        self.w[i][j] = rand.random()\n",
        "\n",
        "\n",
        "  ### AUXILIAR FUNCTIONS\n",
        "\n",
        "  # returns a binary vector with the state of the visible nodes \n",
        "  def v_vector(self):\n",
        "    return np.array([node.state for node in self.v_nodes])\n",
        "\n",
        "  # returns a binary vector with the state of the hidden nodes \n",
        "  def h_vector(self):\n",
        "    return np.array([node.state for node in self.h_nodes])\n",
        "\n",
        "  def v_bias(self):\n",
        "    return np.array([node.bias for node in self.v_nodes])\n",
        "\n",
        "  def h_bias(self):\n",
        "    return np.array([node.bias for node in self.h_nodes])\n",
        "\n",
        "  def new_v_state(self):\n",
        "    return np.array([v_node.eval_update() for v_node in self.v_nodes])\n",
        "\n",
        "  def new_h_state(self):\n",
        "    return np.array([h_node.eval_update() for h_node in self.h_nodes])\n",
        "\n",
        "  def set_visible(self, new_v_vector):\n",
        "    for i in range(len(new_v_vector)):\n",
        "      self.v_nodes[i].state = new_v_vector[i]\n",
        "\n",
        "  def set_hidden(self, new_h_vector):\n",
        "    for i in range(len(new_h_vector)):\n",
        "      self.h_nodes[i].state = new_h_vector[i]\n",
        "\n",
        "  def reset_state(self):\n",
        "    for v_node in self.v_nodes: v_node.state = 0\n",
        "    for h_node in self.h_nodes: h_node.state = 0\n",
        "\n",
        "  def random_state(self):\n",
        "    for v_node in self.v_nodes: v_node.state = 0 if rand.random() < 0.5 else 1\n",
        "    for h_node in self.h_nodes: h_node.state = 0 if rand.random() < 0.5 else 1\n",
        "\n",
        "  ### IMPORTANT FUNCTIONS\n",
        "\n",
        "  # Updates the state of the visible noodes\n",
        "  def update_v(self):\n",
        "    self.set_visible(self.new_v_state())\n",
        "\n",
        "  # Updates the state of the hidden noodes\n",
        "  def update_h(self):\n",
        "    self.set_hidden(self.new_h_state())\n",
        "\n",
        "  # Implements the contrastive divergence algorithm\n",
        "  def train(self, input, cd=1):\n",
        "    \n",
        "    v = input\n",
        "    self.set_visible(input)\n",
        "\n",
        "    self.update_h()\n",
        "    h = self.h_vector()\n",
        "\n",
        "    for _ in range(cd):\n",
        "      self.update_v()\n",
        "      self.update_h()\n",
        "      \n",
        "    vp = self.v_vector()\n",
        "    hp = self.h_vector()\n",
        "\n",
        "    # Update weights\n",
        "    for i in range(self.total_v_nodes):\n",
        "      for j in range(self.total_h_nodes):\n",
        "        self.w[i][j] += self.learning_rate*(v[i]*h[j]- vp[i]*hp[j])\n",
        "\n",
        "    # Update biases\n",
        "    for i in range(self.total_v_nodes):\n",
        "      self.v_nodes[i].bias += self.learning_rate * (v[i] - vp[i])\n",
        "\n",
        "    for i in range(self.total_h_nodes):\n",
        "      self.h_nodes[i].bias += self.learning_rate * (h[i] - hp[i])\n",
        "\n",
        "  ### UTIL FUNCTIONS\n",
        "\n",
        "  def state_energy(self, v_vector, h_vector):\n",
        "    s1 = sum([v_node.bias * v_vector[v_node.idx] for v_node in self.v_nodes])\n",
        "    s2 = sum([h_node.bias * h_vector[h_node.idx] for h_node in self.h_nodes])\n",
        "    s3 = sum([sum([v_vector[v_node.idx] * h_vector[h_node.idx] * self.w[v_node.idx][h_node.idx] for h_node in self.h_nodes]) for v_node in self.v_nodes])\n",
        "    return -s1 - s2 - s3\n",
        "\n",
        "  def vector_exp_energy(self, v_vector):\n",
        "    binary_format = '0' + str(self.total_h_nodes) + 'b'\n",
        "    vector_sum = 0 \n",
        "    for i in range(2**self.total_h_nodes):\n",
        "      h_vector = [0 if c == '0' else 1 for c in format(i, binary_format)]\n",
        "      vector_sum += np.exp(-self.state_energy(v_vector, h_vector))\n",
        "\n",
        "    return vector_sum\n",
        "  \n",
        "  def export_to_file(self, name):\n",
        "\n",
        "    with open('a' + str(name) + '.json', 'w') as f: json.dump(self.v_bias().tolist(), f)\n",
        "    with open('b' + str(name) + '.json', 'w') as f: json.dump(self.h_bias().tolist(), f)\n",
        "    with open('w' + str(name) + '.json', 'w') as f: json.dump(self.w.tolist(), f)\n",
        "\n",
        "  def import_from_file(self, name):\n",
        "\n",
        "    with open('a' + str(name) + '.json', 'r') as f: self.w = json.load(f)\n",
        "    with open('b' + str(name) + '.json', 'r') as f: bias_v = json.load(f)\n",
        "    with open('w' + str(name) + '.json', 'r') as f: bias_h = json.load(f)\n",
        "\n",
        "    for i in range(self.total_v_nodes): self.v_nodes[i].bias = bias_v[i]\n",
        "    for i in range(self.total_h_nodes): self.h_nodes[i].bias = bias_h[i]\n",
        "\n",
        "  def import_from_obj(self, obj):\n",
        "    self.w = json.loads(obj['values']['w'])\n",
        "    bias_v = json.loads(obj['values']['a'])\n",
        "    bias_h = json.loads(obj['values']['b'])\n",
        "\n",
        "    for i in range(self.total_v_nodes): self.v_nodes[i].bias = bias_v[i]\n",
        "    for i in range(self.total_h_nodes): self.h_nodes[i].bias = bias_h[i]\n",
        "    "
      ]
    },
    {
      "cell_type": "markdown",
      "metadata": {
        "id": "Ls9eNzVDj8Ds"
      },
      "source": [
        "## Simple example\n",
        "\n",
        "Ejemplo simple con una entrada de 2 bits\n",
        "\n",
        "Se ebtrebara para que aumente la probabilidad de que produzca el vector `[1, 0]`"
      ]
    },
    {
      "cell_type": "code",
      "execution_count": 7,
      "metadata": {
        "colab": {
          "base_uri": "https://localhost:8080/"
        },
        "id": "e85V-ZUiwVsh",
        "outputId": "98290a44-0a57-4d0f-c444-c7e2f567e623"
      },
      "outputs": [
        {
          "name": "stdout",
          "output_type": "stream",
          "text": [
            "[1 0]\n",
            "[1 0]\n",
            "[1 0]\n",
            "[1 0]\n",
            "[1 0]\n",
            "[1 0]\n",
            "[1 0]\n",
            "[0 0]\n",
            "[1 0]\n",
            "[1 0]\n"
          ]
        }
      ],
      "source": [
        "bm = BoltzmanMachine(2, 2, learning_rate=0.01)\n",
        "\n",
        "train_vector = [1, 0]\n",
        "\n",
        "for i in range(1000):\n",
        "  bm.train(np.array(train_vector), 10) # Tran the bm with CD-10\n",
        "\n",
        "for _ in range(10): # Print 10 examples generated with the bm\n",
        "  bm.reset_state()\n",
        "  bm.update_h()\n",
        "  bm.update_v()\n",
        "\n",
        "  print(bm.v_vector())\n"
      ]
    },
    {
      "cell_type": "markdown",
      "metadata": {
        "id": "27ObXDm_nP8o"
      },
      "source": [
        "## Mnist dataset\n",
        "\n",
        "Whe are going to train the BM with the MNIST dataset. More information [here](http://yann.lecun.com/exdb/mnist/)"
      ]
    },
    {
      "cell_type": "code",
      "execution_count": 2,
      "metadata": {
        "colab": {
          "base_uri": "https://localhost:8080/"
        },
        "id": "n4ZpiEhwnRXx",
        "outputId": "f2c4d84b-a0f8-465c-d6fa-c5dbbd2c6be6"
      },
      "outputs": [
        {
          "name": "stderr",
          "output_type": "stream",
          "text": [
            "2022-09-30 23:24:23.169919: I tensorflow/core/platform/cpu_feature_guard.cc:193] This TensorFlow binary is optimized with oneAPI Deep Neural Network Library (oneDNN) to use the following CPU instructions in performance-critical operations:  AVX2 FMA\n",
            "To enable them in other operations, rebuild TensorFlow with the appropriate compiler flags.\n",
            "2022-09-30 23:24:23.405646: W tensorflow/stream_executor/platform/default/dso_loader.cc:64] Could not load dynamic library 'libcudart.so.11.0'; dlerror: libcudart.so.11.0: cannot open shared object file: No such file or directory\n",
            "2022-09-30 23:24:23.405678: I tensorflow/stream_executor/cuda/cudart_stub.cc:29] Ignore above cudart dlerror if you do not have a GPU set up on your machine.\n",
            "2022-09-30 23:24:23.442283: E tensorflow/stream_executor/cuda/cuda_blas.cc:2981] Unable to register cuBLAS factory: Attempting to register factory for plugin cuBLAS when one has already been registered\n",
            "2022-09-30 23:24:24.571660: W tensorflow/stream_executor/platform/default/dso_loader.cc:64] Could not load dynamic library 'libnvinfer.so.7'; dlerror: libnvinfer.so.7: cannot open shared object file: No such file or directory\n",
            "2022-09-30 23:24:24.571775: W tensorflow/stream_executor/platform/default/dso_loader.cc:64] Could not load dynamic library 'libnvinfer_plugin.so.7'; dlerror: libnvinfer_plugin.so.7: cannot open shared object file: No such file or directory\n",
            "2022-09-30 23:24:24.571790: W tensorflow/compiler/tf2tensorrt/utils/py_utils.cc:38] TF-TRT Warning: Cannot dlopen some TensorRT libraries. If you would like to use Nvidia GPU with TensorRT, please make sure the missing libraries mentioned above are installed properly.\n"
          ]
        },
        {
          "name": "stdout",
          "output_type": "stream",
          "text": [
            "\n"
          ]
        }
      ],
      "source": [
        "from keras.datasets import mnist\n",
        "\n",
        "(train_X, train_y), (test_X, test_y) = mnist.load_data()\n",
        "\n",
        "print()\n",
        "\n",
        "def img2binvec(img):\n",
        "  binvec = np.zeros((28*28), int)\n",
        "  for y in range(28):\n",
        "    for x in range(28):\n",
        "      binvec[28*y + x] = 0 if img[y][x] < 64 else 1\n",
        "\n",
        "  return binvec\n",
        "\n",
        "def binvec2img(binvec):\n",
        "  img = np.zeros((28, 28), int)\n",
        "  for y in range(28):\n",
        "    for x in range(28):\n",
        "      img[y][x] = binvec[28*y + x] \n",
        "\n",
        "  return img\n",
        "\n"
      ]
    },
    {
      "cell_type": "markdown",
      "metadata": {
        "id": "6UPcPQLvlql5"
      },
      "source": [
        "## Train the BM \n"
      ]
    },
    {
      "cell_type": "markdown",
      "metadata": {
        "id": "KRjefPT5lwX8"
      },
      "source": [
        "### Train for each digit\n",
        "\n",
        "Train a boltzman machne to predict each digit. (**WARNING: Needs a lot of time**, you can use our pretrained data)"
      ]
    },
    {
      "cell_type": "code",
      "execution_count": 3,
      "metadata": {
        "colab": {
          "base_uri": "https://localhost:8080/",
          "height": 409
        },
        "id": "iQ2zs94oytEj",
        "outputId": "2db3ed64-d594-42fe-f091-ee1987fd9a51"
      },
      "outputs": [
        {
          "name": "stdout",
          "output_type": "stream",
          "text": [
            "\n",
            "######### 6 ############\n",
            "0 %; 1 %; 2 %; 3 %; 4 %; 5 %; 6 %; 7 %; 8 %; 9 %; 10 %; 11 %; 12 %; 13 %; 14 %; 15 %; 16 %; 17 %; 18 %; 19 %; 20 %; 21 %; 22 %; 23 %; 24 %; 25 %; 26 %; 27 %; 28 %; 29 %; 30 %; 31 %; 32 %; 33 %; 34 %; 35 %; 36 %; 37 %; 38 %; 39 %; 40 %; 41 %; 42 %; 43 %; 44 %; 45 %; 46 %; 47 %; 48 %; 49 %; 50 %; 51 %; 52 %; 53 %; 54 %; 55 %; 56 %; 57 %; 58 %; 59 %; 60 %; 61 %; 62 %; 63 %; 64 %; 65 %; 66 %; 67 %; 68 %; 69 %; 70 %; 71 %; 72 %; 73 %; 74 %; 75 %; 76 %; 77 %; 78 %; 79 %; 80 %; 81 %; 82 %; 83 %; 84 %; 85 %; 86 %; 87 %; 88 %; 89 %; 90 %; 91 %; 92 %; 93 %; 94 %; 95 %; 96 %; 97 %; 98 %; 99 %; \n",
            "######### 7 ############\n",
            "0 %; 1 %; 2 %; 3 %; 4 %; 5 %; 6 %; 7 %; 8 %; 9 %; 10 %; 11 %; 12 %; 13 %; 14 %; 15 %; 16 %; 17 %; 18 %; 19 %; 20 %; 21 %; 22 %; 23 %; 24 %; 25 %; 26 %; 27 %; 28 %; 29 %; 30 %; 31 %; 32 %; 33 %; 34 %; 35 %; 36 %; 37 %; 38 %; 39 %; 40 %; 41 %; 42 %; 43 %; 44 %; 45 %; 46 %; 47 %; 48 %; 49 %; 50 %; 51 %; 52 %; 53 %; 54 %; 55 %; 56 %; 57 %; 58 %; 59 %; 60 %; 61 %; 62 %; 63 %; 64 %; 65 %; 66 %; 67 %; 68 %; 69 %; 70 %; 71 %; 72 %; 73 %; 74 %; 75 %; 76 %; 77 %; 78 %; 79 %; 80 %; 81 %; 82 %; 83 %; 84 %; 85 %; 86 %; 87 %; 88 %; 89 %; 90 %; 91 %; 92 %; 93 %; 94 %; 95 %; 96 %; 97 %; 98 %; 99 %; \n",
            "######### 8 ############\n",
            "0 %; 1 %; 2 %; 3 %; 4 %; 5 %; 6 %; 7 %; 8 %; 9 %; 10 %; 11 %; 12 %; 13 %; 14 %; 15 %; 16 %; 17 %; 18 %; 19 %; 20 %; 21 %; 22 %; 23 %; 24 %; 25 %; 26 %; 27 %; 28 %; 29 %; 30 %; 31 %; 32 %; 33 %; 34 %; 35 %; 36 %; 37 %; 38 %; 39 %; 40 %; 41 %; 42 %; 43 %; 44 %; 45 %; 46 %; 47 %; 48 %; 49 %; 50 %; 51 %; 52 %; 53 %; 54 %; 55 %; 56 %; 57 %; 58 %; 59 %; 60 %; 61 %; 62 %; 63 %; 64 %; 65 %; 66 %; 67 %; 68 %; 69 %; 70 %; 71 %; 72 %; 73 %; 74 %; 75 %; 76 %; 77 %; 78 %; 79 %; 80 %; 81 %; 82 %; 83 %; 84 %; 85 %; 86 %; 87 %; 88 %; 89 %; 90 %; 91 %; 92 %; 93 %; 94 %; 95 %; 96 %; 97 %; 98 %; 99 %; \n",
            "######### 9 ############\n",
            "0 %; 1 %; 2 %; 3 %; 4 %; 5 %; 6 %; 7 %; 8 %; 9 %; 10 %; 11 %; 12 %; 13 %; 14 %; 15 %; 16 %; 17 %; 18 %; 19 %; 20 %; 21 %; 22 %; 23 %; 24 %; 25 %; 26 %; 27 %; 28 %; 29 %; 30 %; 31 %; 32 %; 33 %; 34 %; 35 %; 36 %; 37 %; 38 %; 39 %; 40 %; 41 %; 42 %; 43 %; 44 %; 45 %; 46 %; 47 %; 48 %; 49 %; 50 %; 51 %; 52 %; 53 %; 54 %; 55 %; 56 %; 57 %; 58 %; 59 %; 60 %; 61 %; 62 %; 63 %; 64 %; 65 %; 66 %; 67 %; 68 %; 69 %; 70 %; 71 %; 72 %; 73 %; 74 %; 75 %; 76 %; 77 %; 78 %; 79 %; 80 %; 81 %; 82 %; 83 %; 84 %; 85 %; 86 %; 87 %; 88 %; 89 %; 90 %; 91 %; 92 %; 93 %; 94 %; 95 %; 96 %; 97 %; 98 %; 99 %; "
          ]
        }
      ],
      "source": [
        "# For each digit\n",
        "for i in range(0, 10):\n",
        "  print(\"\\n#########\", i, \"############\")\n",
        "  bm_minst = BoltzmanMachine(28*28, 500, learning_rate=0.01)\n",
        "  character_ds = train_X[train_y == i]\n",
        "\n",
        "  total = len(character_ds)\n",
        "  current = 0\n",
        "  last_p = 0\n",
        "  for traim_img in character_ds:\n",
        "    \n",
        "    if current/total >= last_p:\n",
        "      last_p += 0.01\n",
        "      print(current*100//total, '%', end='; ')\n",
        "    \n",
        "    current += 1\n",
        "\n",
        "    bm_minst.train(np.array(img2binvec(traim_img)), 1)\n",
        "\n",
        "  # Save the data\n",
        "  bm_minst.export_to_file(i)"
      ]
    },
    {
      "cell_type": "markdown",
      "metadata": {
        "id": "Ums3NQett-Q4"
      },
      "source": [
        "# Train for all digits\n",
        "\n",
        "Tran the BM ot recognize all the digits"
      ]
    },
    {
      "cell_type": "code",
      "execution_count": null,
      "metadata": {
        "id": "G_kSLrtGt9gw"
      },
      "outputs": [],
      "source": [
        "bm_minst = BoltzmanMachine(28*28, 500, learning_rate=0.01)\n",
        "\n",
        "total = len(train_X)\n",
        "current = 0\n",
        "last_p = 0\n",
        "for traim_img in train_X:\n",
        "    if current/total >= last_p:\n",
        "        last_p += 0.01\n",
        "        print(current/total * 100, '%')\n",
        "    current += 1\n",
        "    bm_minst.train(np.array(img2binvec(traim_img)), 1)\n",
        "\n",
        "bm_minst.export_to_file('full')"
      ]
    },
    {
      "cell_type": "markdown",
      "metadata": {
        "id": "RmzasaqBzGtf"
      },
      "source": [
        "## Import the pre-trained files\n",
        "\n",
        "We have uploaded the trained files in github. Use this code to load_it"
      ]
    },
    {
      "cell_type": "code",
      "execution_count": 5,
      "metadata": {
        "id": "oyUXu6ob4pUS"
      },
      "outputs": [],
      "source": [
        "import requests as req\n",
        "\n",
        "def load_git_file(url):\n",
        "  return req.get(url).text\n",
        "  \n",
        "url = 'https://raw.githubusercontent.com/gdguerrerog/boltzman_machine_nn/main/urls.json'\n",
        "trained_files = json.loads(load_git_file(url))\n",
        "\n",
        "for tf in trained_files:\n",
        "  tf['values'] = {\n",
        "      'a': load_git_file(tf['urls']['a']),\n",
        "      'b': load_git_file(tf['urls']['b']),\n",
        "      'w': load_git_file(tf['urls']['w']),\n",
        "  }\n"
      ]
    },
    {
      "cell_type": "markdown",
      "metadata": {
        "id": "TV8vD4SVuEfP"
      },
      "source": [
        "# Try a Boltzman machine\n",
        "\n",
        "Try generate digits using the boltzman machine"
      ]
    },
    {
      "cell_type": "code",
      "execution_count": 13,
      "metadata": {
        "colab": {
          "base_uri": "https://localhost:8080/",
          "height": 265
        },
        "id": "8WyUSvcPuD5R",
        "outputId": "56131c2e-6e37-44b2-9e41-c7b623d80032"
      },
      "outputs": [
        {
          "ename": "IndexError",
          "evalue": "list index out of range",
          "output_type": "error",
          "traceback": [
            "\u001b[0;31m---------------------------------------------------------------------------\u001b[0m",
            "\u001b[0;31mIndexError\u001b[0m                                Traceback (most recent call last)",
            "\u001b[1;32m/home/german/Escritorio/Universidad Nacional/14 Semestre/Redes Neuronales/boltzman_machine_nn/MaquinasdeBoltzmann.ipynb Celda 19\u001b[0m in \u001b[0;36m<cell line: 4>\u001b[0;34m()\u001b[0m\n\u001b[1;32m      <a href='vscode-notebook-cell:/home/german/Escritorio/Universidad%20Nacional/14%20Semestre/Redes%20Neuronales/boltzman_machine_nn/MaquinasdeBoltzmann.ipynb#X24sZmlsZQ%3D%3D?line=0'>1</a>\u001b[0m \u001b[39mfrom\u001b[39;00m \u001b[39mmatplotlib\u001b[39;00m \u001b[39mimport\u001b[39;00m pyplot\n\u001b[1;32m      <a href='vscode-notebook-cell:/home/german/Escritorio/Universidad%20Nacional/14%20Semestre/Redes%20Neuronales/boltzman_machine_nn/MaquinasdeBoltzmann.ipynb#X24sZmlsZQ%3D%3D?line=2'>3</a>\u001b[0m bm_minst \u001b[39m=\u001b[39m BoltzmanMachine(\u001b[39m28\u001b[39m\u001b[39m*\u001b[39m\u001b[39m28\u001b[39m, \u001b[39m500\u001b[39m, learning_rate\u001b[39m=\u001b[39m\u001b[39m0.02\u001b[39m)\n\u001b[0;32m----> <a href='vscode-notebook-cell:/home/german/Escritorio/Universidad%20Nacional/14%20Semestre/Redes%20Neuronales/boltzman_machine_nn/MaquinasdeBoltzmann.ipynb#X24sZmlsZQ%3D%3D?line=3'>4</a>\u001b[0m bm_minst\u001b[39m.\u001b[39mimport_from_obj(trained_files[\u001b[39m6\u001b[39;49m])\n\u001b[1;32m      <a href='vscode-notebook-cell:/home/german/Escritorio/Universidad%20Nacional/14%20Semestre/Redes%20Neuronales/boltzman_machine_nn/MaquinasdeBoltzmann.ipynb#X24sZmlsZQ%3D%3D?line=5'>6</a>\u001b[0m bm_minst\u001b[39m.\u001b[39mreset_state()\n\u001b[1;32m      <a href='vscode-notebook-cell:/home/german/Escritorio/Universidad%20Nacional/14%20Semestre/Redes%20Neuronales/boltzman_machine_nn/MaquinasdeBoltzmann.ipynb#X24sZmlsZQ%3D%3D?line=6'>7</a>\u001b[0m \u001b[39mfor\u001b[39;00m i \u001b[39min\u001b[39;00m \u001b[39mrange\u001b[39m(\u001b[39m100\u001b[39m):\n",
            "\u001b[0;31mIndexError\u001b[0m: list index out of range"
          ]
        }
      ],
      "source": [
        "from matplotlib import pyplot\n",
        "\n",
        "bm_minst = BoltzmanMachine(28*28, 500, learning_rate=0.02)\n",
        "bm_minst.import_from_obj(trained_files[6])\n",
        "\n",
        "bm_minst.reset_state()\n",
        "for i in range(100):\n",
        "    bm_minst.update_v()\n",
        "    bm_minst.update_h()\n",
        "\n",
        "bm_minst_result = bm_minst.v_vector()\n",
        "\n",
        "# pyplot.imshow(two_character_ds[3], cmap=pyplot.get_cmap('gray'))\n",
        "pyplot.imshow(binvec2img(bm_minst_result), cmap=pyplot.get_cmap('gray'))\n",
        "pyplot.show()"
      ]
    }
  ],
  "metadata": {
    "colab": {
      "collapsed_sections": [
        "kyA0P_tZof4U"
      ],
      "provenance": [],
      "toc_visible": true
    },
    "kernelspec": {
      "display_name": "Python 3.10.6 64-bit",
      "language": "python",
      "name": "python3"
    },
    "language_info": {
      "codemirror_mode": {
        "name": "ipython",
        "version": 3
      },
      "file_extension": ".py",
      "mimetype": "text/x-python",
      "name": "python",
      "nbconvert_exporter": "python",
      "pygments_lexer": "ipython3",
      "version": "3.10.6"
    },
    "vscode": {
      "interpreter": {
        "hash": "916dbcbb3f70747c44a77c7bcd40155683ae19c65e1c03b4aa3499c5328201f1"
      }
    }
  },
  "nbformat": 4,
  "nbformat_minor": 0
}
